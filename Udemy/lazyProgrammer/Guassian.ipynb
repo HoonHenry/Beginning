{
 "cells": [
  {
   "cell_type": "code",
   "execution_count": 1,
   "metadata": {},
   "outputs": [],
   "source": [
    "from scipy.stats import norm"
   ]
  },
  {
   "cell_type": "code",
   "execution_count": 2,
   "metadata": {},
   "outputs": [
    {
     "data": {
      "text/plain": [
       "0.3989422804014327"
      ]
     },
     "execution_count": 2,
     "metadata": {},
     "output_type": "execute_result"
    }
   ],
   "source": [
    "norm.pdf(0)"
   ]
  },
  {
   "cell_type": "code",
   "execution_count": 3,
   "metadata": {},
   "outputs": [
    {
     "data": {
      "text/plain": [
       "0.03520653267642995"
      ]
     },
     "execution_count": 3,
     "metadata": {},
     "output_type": "execute_result"
    }
   ],
   "source": [
    "norm.pdf(0, loc=5, scale=10)\n",
    "# loc 는 mean, scale 은 standard deviation"
   ]
  },
  {
   "cell_type": "code",
   "execution_count": 4,
   "metadata": {},
   "outputs": [],
   "source": [
    "import numpy as np\n",
    "r = np.random.randn(10)"
   ]
  },
  {
   "cell_type": "code",
   "execution_count": 5,
   "metadata": {},
   "outputs": [
    {
     "data": {
      "text/plain": [
       "array([0.22219726, 0.38493786, 0.17281437, 0.32676838, 0.04424143,\n",
       "       0.04759138, 0.17781066, 0.34363551, 0.28824075, 0.38382444])"
      ]
     },
     "execution_count": 5,
     "metadata": {},
     "output_type": "execute_result"
    }
   ],
   "source": [
    "norm.pdf(r)"
   ]
  },
  {
   "cell_type": "code",
   "execution_count": 6,
   "metadata": {},
   "outputs": [
    {
     "data": {
      "text/plain": [
       "array([-1.50418971, -0.95467336, -1.75553727, -1.11850369, -3.11809358,\n",
       "       -3.04510366, -1.72703602, -1.06817374, -1.2439592 , -0.95757001])"
      ]
     },
     "execution_count": 6,
     "metadata": {},
     "output_type": "execute_result"
    }
   ],
   "source": [
    "norm.logpdf(r)"
   ]
  },
  {
   "cell_type": "code",
   "execution_count": 7,
   "metadata": {},
   "outputs": [
    {
     "data": {
      "text/plain": [
       "array([0.86035098, 0.39460443, 0.9020846 , 0.73623063, 0.98201272,\n",
       "       0.98040174, 0.10181158, 0.29242147, 0.78995105, 0.60947929])"
      ]
     },
     "execution_count": 7,
     "metadata": {},
     "output_type": "execute_result"
    }
   ],
   "source": [
    "norm.cdf(r)"
   ]
  },
  {
   "cell_type": "code",
   "execution_count": 8,
   "metadata": {},
   "outputs": [
    {
     "data": {
      "text/plain": [
       "array([-0.15041486, -0.92987146, -0.10304698, -0.30621186, -0.01815102,\n",
       "       -0.01979285, -2.28463142, -1.22955914, -0.2357843 , -0.49515031])"
      ]
     },
     "execution_count": 8,
     "metadata": {},
     "output_type": "execute_result"
    }
   ],
   "source": [
    "norm.logcdf(r)"
   ]
  },
  {
   "cell_type": "code",
   "execution_count": 9,
   "metadata": {},
   "outputs": [],
   "source": [
    "# 1D Guassian\n",
    "import matplotlib.pyplot as plt\n",
    "r = np.random.randn(10000)"
   ]
  },
  {
   "cell_type": "code",
   "execution_count": 10,
   "metadata": {},
   "outputs": [
    {
     "data": {
      "text/plain": [
       "(array([  2.,   0.,   0.,   1.,   1.,   1.,   1.,   1.,   1.,   3.,   2.,\n",
       "          3.,   5.,  13.,   3.,  17.,  17.,  16.,  23.,  26.,  26.,  37.,\n",
       "         46.,  33.,  44.,  58.,  86., 109., 105.,  96., 113., 134., 136.,\n",
       "        144., 193., 203., 208., 244., 269., 285., 286., 289., 315., 301.,\n",
       "        316., 321., 284., 330., 315., 307., 320., 290., 289., 298., 302.,\n",
       "        268., 258., 241., 228., 213., 186., 152., 151., 156., 123.,  97.,\n",
       "        102.,  87.,  73.,  68.,  52.,  48.,  37.,  41.,  30.,  22.,  20.,\n",
       "         15.,  15.,   7.,  12.,   4.,   6.,   2.,   5.,   3.,   3.,   1.,\n",
       "          1.,   0.,   0.,   0.,   2.,   0.,   2.,   0.,   0.,   0.,   0.,\n",
       "          1.]),\n",
       " array([-3.8299799 , -3.74942827, -3.66887665, -3.58832503, -3.5077734 ,\n",
       "        -3.42722178, -3.34667016, -3.26611854, -3.18556691, -3.10501529,\n",
       "        -3.02446367, -2.94391204, -2.86336042, -2.7828088 , -2.70225717,\n",
       "        -2.62170555, -2.54115393, -2.46060231, -2.38005068, -2.29949906,\n",
       "        -2.21894744, -2.13839581, -2.05784419, -1.97729257, -1.89674094,\n",
       "        -1.81618932, -1.7356377 , -1.65508608, -1.57453445, -1.49398283,\n",
       "        -1.41343121, -1.33287958, -1.25232796, -1.17177634, -1.09122471,\n",
       "        -1.01067309, -0.93012147, -0.84956985, -0.76901822, -0.6884666 ,\n",
       "        -0.60791498, -0.52736335, -0.44681173, -0.36626011, -0.28570848,\n",
       "        -0.20515686, -0.12460524, -0.04405362,  0.03649801,  0.11704963,\n",
       "         0.19760125,  0.27815288,  0.3587045 ,  0.43925612,  0.51980775,\n",
       "         0.60035937,  0.68091099,  0.76146261,  0.84201424,  0.92256586,\n",
       "         1.00311748,  1.08366911,  1.16422073,  1.24477235,  1.32532398,\n",
       "         1.4058756 ,  1.48642722,  1.56697884,  1.64753047,  1.72808209,\n",
       "         1.80863371,  1.88918534,  1.96973696,  2.05028858,  2.13084021,\n",
       "         2.21139183,  2.29194345,  2.37249508,  2.4530467 ,  2.53359832,\n",
       "         2.61414994,  2.69470157,  2.77525319,  2.85580481,  2.93635644,\n",
       "         3.01690806,  3.09745968,  3.17801131,  3.25856293,  3.33911455,\n",
       "         3.41966617,  3.5002178 ,  3.58076942,  3.66132104,  3.74187267,\n",
       "         3.82242429,  3.90297591,  3.98352754,  4.06407916,  4.14463078,\n",
       "         4.2251824 ]),\n",
       " <a list of 100 Patch objects>)"
      ]
     },
     "execution_count": 10,
     "metadata": {},
     "output_type": "execute_result"
    },
    {
     "data": {
      "image/png": "[encoded data removed]",
      "text/plain": [
       "<Figure size 432x288 with 1 Axes>"
      ]
     },
     "metadata": {
      "needs_background": "light"
     },
     "output_type": "display_data"
    }
   ],
   "source": [
    "plt.hist(r, bins=100)"
   ]
  },
  {
   "cell_type": "code",
   "execution_count": 11,
   "metadata": {},
   "outputs": [],
   "source": [
    "r = 10*np.random.randn(10000)+5"
   ]
  },
  {
   "cell_type": "code",
   "execution_count": 12,
   "metadata": {},
   "outputs": [],
   "source": [
    "plt.show()"
   ]
  },
  {
   "cell_type": "code",
   "execution_count": 13,
   "metadata": {},
   "outputs": [
    {
     "data": {
      "text/plain": [
       "(array([  2.,   2.,   2.,   1.,   0.,   0.,   3.,   4.,   3.,   0.,   1.,\n",
       "          5.,  10.,   7.,  13.,  11.,  13.,  18.,  21.,  23.,  30.,  36.,\n",
       "         33.,  34.,  63.,  68.,  74.,  74.,  87.,  96., 121., 160., 146.,\n",
       "        164., 182., 160., 217., 213., 216., 252., 267., 257., 286., 310.,\n",
       "        282., 315., 299., 308., 291., 292., 326., 314., 296., 295., 296.,\n",
       "        241., 257., 232., 237., 210., 214., 186., 153., 156., 154., 128.,\n",
       "        117., 102.,  81.,  78.,  84.,  56.,  47.,  47.,  36.,  38.,  25.,\n",
       "         17.,  23.,  16.,  14.,   9.,  12.,   8.,   7.,   3.,   0.,   4.,\n",
       "          3.,   1.,   1.,   1.,   1.,   0.,   1.,   0.,   0.,   0.,   0.,\n",
       "          1.]), array([-32.77889653, -31.99704852, -31.21520051, -30.4333525 ,\n",
       "        -29.6515045 , -28.86965649, -28.08780848, -27.30596047,\n",
       "        -26.52411246, -25.74226446, -24.96041645, -24.17856844,\n",
       "        -23.39672043, -22.61487242, -21.83302441, -21.05117641,\n",
       "        -20.2693284 , -19.48748039, -18.70563238, -17.92378437,\n",
       "        -17.14193636, -16.36008836, -15.57824035, -14.79639234,\n",
       "        -14.01454433, -13.23269632, -12.45084831, -11.66900031,\n",
       "        -10.8871523 , -10.10530429,  -9.32345628,  -8.54160827,\n",
       "         -7.75976026,  -6.97791226,  -6.19606425,  -5.41421624,\n",
       "         -4.63236823,  -3.85052022,  -3.06867222,  -2.28682421,\n",
       "         -1.5049762 ,  -0.72312819,   0.05871982,   0.84056783,\n",
       "          1.62241583,   2.40426384,   3.18611185,   3.96795986,\n",
       "          4.74980787,   5.53165588,   6.31350388,   7.09535189,\n",
       "          7.8771999 ,   8.65904791,   9.44089592,  10.22274393,\n",
       "         11.00459193,  11.78643994,  12.56828795,  13.35013596,\n",
       "         14.13198397,  14.91383198,  15.69567998,  16.47752799,\n",
       "         17.259376  ,  18.04122401,  18.82307202,  19.60492002,\n",
       "         20.38676803,  21.16861604,  21.95046405,  22.73231206,\n",
       "         23.51416007,  24.29600807,  25.07785608,  25.85970409,\n",
       "         26.6415521 ,  27.42340011,  28.20524812,  28.98709612,\n",
       "         29.76894413,  30.55079214,  31.33264015,  32.11448816,\n",
       "         32.89633617,  33.67818417,  34.46003218,  35.24188019,\n",
       "         36.0237282 ,  36.80557621,  37.58742422,  38.36927222,\n",
       "         39.15112023,  39.93296824,  40.71481625,  41.49666426,\n",
       "         42.27851226,  43.06036027,  43.84220828,  44.62405629,\n",
       "         45.4059043 ]), <a list of 100 Patch objects>)"
      ]
     },
     "execution_count": 13,
     "metadata": {},
     "output_type": "execute_result"
    },
    {
     "data": {
      "image/png": "[encoded data removed]",
      "text/plain": [
       "<Figure size 432x288 with 1 Axes>"
      ]
     },
     "metadata": {
      "needs_background": "light"
     },
     "output_type": "display_data"
    }
   ],
   "source": [
    "plt.hist(r, bins=100)"
   ]
  },
  {
   "cell_type": "code",
   "execution_count": 14,
   "metadata": {},
   "outputs": [],
   "source": [
    "# 2D Gaussian, circular\n",
    "r = np.random.randn(10000, 2)"
   ]
  },
  {
   "cell_type": "code",
   "execution_count": 15,
   "metadata": {},
   "outputs": [
    {
     "data": {
      "image/png": "[encoded data removed]",
      "text/plain": [
       "<Figure size 432x288 with 1 Axes>"
      ]
     },
     "metadata": {
      "needs_background": "light"
     },
     "output_type": "display_data"
    }
   ],
   "source": [
    "plt.scatter(r[:,0], r[:,1])\n",
    "plt.axis('equal')\n",
    "plt.show()"
   ]
  },
  {
   "cell_type": "code",
   "execution_count": 16,
   "metadata": {},
   "outputs": [],
   "source": [
    "# elliptical\n",
    "r[:,1] = 5*r[:,1]+2"
   ]
  },
  {
   "cell_type": "code",
   "execution_count": 17,
   "metadata": {},
   "outputs": [
    {
     "data": {
      "image/png": "[encoded data removed]",
      "text/plain": [
       "<Figure size 432x288 with 1 Axes>"
      ]
     },
     "metadata": {
      "needs_background": "light"
     },
     "output_type": "display_data"
    }
   ],
   "source": [
    "plt.scatter(r[:,0], r[:,1])\n",
    "\n",
    "plt.show()"
   ]
  },
  {
   "cell_type": "code",
   "execution_count": 18,
   "metadata": {},
   "outputs": [
    {
     "data": {
      "image/png": "[encoded data removed]",
      "text/plain": [
       "<Figure size 432x288 with 1 Axes>"
      ]
     },
     "metadata": {
      "needs_background": "light"
     },
     "output_type": "display_data"
    }
   ],
   "source": [
    "plt.scatter(r[:,0], r[:,1])\n",
    "plt.axis('equal')\n",
    "plt.show()"
   ]
  },
  {
   "cell_type": "code",
   "execution_count": 21,
   "metadata": {},
   "outputs": [
    {
     "name": "stderr",
     "output_type": "stream",
     "text": [
      "C:\\Users\\user\\Anaconda3\\lib\\site-packages\\scipy\\stats\\_multivariate.py:660: RuntimeWarning: covariance is not symmetric positive-semidefinite.\n",
      "  out = random_state.multivariate_normal(mean, cov, size)\n"
     ]
    }
   ],
   "source": [
    "from scipy.stats import multivariate_normal\n",
    "from scipy.stats import multivariate_normal as mvn\n",
    "cov = np.array([[1,0.5],[0.8,3]])\n",
    "mu = np.array([0,2])\n",
    "r = mvn.rvs(mean=mu, cov=cov, size=1000)"
   ]
  },
  {
   "cell_type": "code",
   "execution_count": 22,
   "metadata": {},
   "outputs": [
    {
     "data": {
      "image/png": "[encoded data removed]",
      "text/plain": [
       "<Figure size 432x288 with 1 Axes>"
      ]
     },
     "metadata": {
      "needs_background": "light"
     },
     "output_type": "display_data"
    }
   ],
   "source": [
    "plt.scatter(r[:,0],r[:,1])\n",
    "plt.axis('equal')\n",
    "plt.show()"
   ]
  },
  {
   "cell_type": "code",
   "execution_count": 25,
   "metadata": {
    "scrolled": true
   },
   "outputs": [
    {
     "name": "stderr",
     "output_type": "stream",
     "text": [
      "C:\\Users\\user\\Anaconda3\\lib\\site-packages\\ipykernel_launcher.py:2: RuntimeWarning: covariance is not symmetric positive-semidefinite.\n",
      "  \n"
     ]
    },
    {
     "data": {
      "image/png": "[encoded data removed]",
      "text/plain": [
       "<Figure size 432x288 with 1 Axes>"
      ]
     },
     "metadata": {
      "needs_background": "light"
     },
     "output_type": "display_data"
    }
   ],
   "source": [
    "import numpy as np\n",
    "t = np.random.multivariate_normal(mean=mu, cov=cov, size=1000)\n",
    "plt.scatter(t[:,0],t[:,1])\n",
    "plt.axis('equal')\n",
    "plt.show()"
   ]
  },
  {
   "cell_type": "code",
   "execution_count": null,
   "metadata": {},
   "outputs": [],
   "source": []
  }
 ],
 "metadata": {
  "kernelspec": {
   "display_name": "Python 3",
   "language": "python",
   "name": "python3"
  },
  "language_info": {
   "codemirror_mode": {
    "name": "ipython",
    "version": 3
   },
   "file_extension": ".py",
   "mimetype": "text/x-python",
   "name": "python",
   "nbconvert_exporter": "python",
   "pygments_lexer": "ipython3",
   "version": "3.7.3"
  }
 },
 "nbformat": 4,
 "nbformat_minor": 2
}
